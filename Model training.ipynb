{
 "cells": [
  {
   "cell_type": "markdown",
   "id": "d9228f92",
   "metadata": {},
   "source": [
    "## imoprts"
   ]
  },
  {
   "cell_type": "code",
   "execution_count": null,
   "id": "6b932749",
   "metadata": {},
   "outputs": [],
   "source": [
    "from sklearn.model_selection import train_test_split\n",
    "from tensorflow.keras.utils import to_categorical\n",
    "from tensorflow.keras.models import Sequential\n",
    "from tensorflow.keras.layers import LSTM, Dense ,GRU\n",
    "from tensorflow.keras.callbacks import TensorBoard\n",
    "from sklearn.metrics import multilabel_confusion_matrix,accuracy_score\n",
    "import numpy as np\n",
    "import matplotlib.pyplot as plt\n",
    "import seaborn as sns\n",
    "from sklearn.metrics import confusion_matrix"
   ]
  },
  {
   "cell_type": "markdown",
   "id": "05c0196f",
   "metadata": {},
   "source": [
    "## Preprocess Data and Create labels and features"
   ]
  },
  {
   "cell_type": "code",
   "execution_count": null,
   "id": "8a9dcd56",
   "metadata": {},
   "outputs": [],
   "source": [
    "DATA_PATH=os.path.join('MP_Data')\n",
    "actions = np.array(['pain','feaver','doctor','injury','yestrday','tomorow','injection','dizziness','allergy','bandage'])\n",
    "no_sequences=30\n",
    "sequence_length=30\n"
   ]
  },
  {
   "cell_type": "code",
   "execution_count": null,
   "id": "0a7dd000",
   "metadata": {},
   "outputs": [],
   "source": [
    "label_map={label:num for num,label in enumerate(actions)}"
   ]
  },
  {
   "cell_type": "code",
   "execution_count": null,
   "id": "0690fa31",
   "metadata": {},
   "outputs": [],
   "source": [
    "sequences ,labels =[],[]\n",
    "for action in actions:\n",
    "    for sequence in range(no_sequences):\n",
    "        window=[]\n",
    "        for frame_num in range(sequence_length):\n",
    "            res=np.load(os.path.join(DATA_PATH,action,str(sequence),f'{frame_num}.npy'))\n",
    "            window.append(res)\n",
    "        sequences.append(window)\n",
    "        labels.append(label_map[action])"
   ]
  },
  {
   "cell_type": "code",
   "execution_count": null,
   "id": "a0e4bd6a",
   "metadata": {},
   "outputs": [],
   "source": [
    "X=np.array(sequences)"
   ]
  },
  {
   "cell_type": "code",
   "execution_count": null,
   "id": "4ce218fc",
   "metadata": {},
   "outputs": [],
   "source": [
    "y= to_categorical(labels).astype(int)"
   ]
  },
  {
   "cell_type": "code",
   "execution_count": null,
   "id": "992c3478",
   "metadata": {},
   "outputs": [],
   "source": [
    "X_train, X_test, y_train, y_test = train_test_split(X, y, test_size=0.05)"
   ]
  },
  {
   "cell_type": "markdown",
   "id": "e6cb8b61",
   "metadata": {},
   "source": [
    "## Build and train LSTM Neural Network"
   ]
  },
  {
   "cell_type": "code",
   "execution_count": null,
   "id": "0500cbc0",
   "metadata": {},
   "outputs": [],
   "source": [
    "log_dir=os.path.join(\"Logs\")\n",
    "tb_callback=TensorBoard(log_dir=log_dir)"
   ]
  },
  {
   "cell_type": "code",
   "execution_count": null,
   "id": "179d7dac",
   "metadata": {},
   "outputs": [],
   "source": [
    "model = Sequential()\n",
    "model.add(LSTM(64, return_sequences=True, activation='relu', input_shape=(30,1662)))\n",
    "model.add(LSTM(128, return_sequences=True, activation='relu'))\n",
    "model.add(LSTM(64, return_sequences=False, activation='relu'))\n",
    "model.add(Dense(64, activation='relu'))\n",
    "model.add(Dense(32, activation='relu'))\n",
    "model.add(Dense(actions.shape[0], activation='softmax'))"
   ]
  },
  {
   "cell_type": "code",
   "execution_count": null,
   "id": "a02aed89",
   "metadata": {},
   "outputs": [],
   "source": [
    "model.compile(optimizer=\"Adam\",loss=\"categorical_crossentropy\",metrics=[\"categorical_accuracy\"])"
   ]
  },
  {
   "cell_type": "code",
   "execution_count": null,
   "id": "b94ab044",
   "metadata": {},
   "outputs": [],
   "source": [
    "model.fit(X_train, y_train, epochs=2000, callbacks=[tb_callback])"
   ]
  },
  {
   "cell_type": "code",
   "execution_count": null,
   "id": "188e2c92",
   "metadata": {},
   "outputs": [],
   "source": [
    "model.summary()"
   ]
  },
  {
   "cell_type": "markdown",
   "id": "33cea83b",
   "metadata": {},
   "source": [
    "## Model prediction"
   ]
  },
  {
   "cell_type": "code",
   "execution_count": null,
   "id": "8ba926c2",
   "metadata": {},
   "outputs": [],
   "source": [
    "res=model.predict(X_test)"
   ]
  },
  {
   "cell_type": "code",
   "execution_count": null,
   "id": "85adff34",
   "metadata": {},
   "outputs": [],
   "source": [
    "cm = confusion_matrix(y_true, y_pred)\n",
    "print(\"Confusion Matrix:\")\n",
    "print(cm)"
   ]
  },
  {
   "cell_type": "markdown",
   "id": "20d5443f",
   "metadata": {},
   "source": [
    "## Save Weights"
   ]
  },
  {
   "cell_type": "code",
   "execution_count": null,
   "id": "07d68c4d",
   "metadata": {},
   "outputs": [],
   "source": [
    "model.save('actionv2.h5')"
   ]
  },
  {
   "cell_type": "markdown",
   "id": "35d2c9d4",
   "metadata": {},
   "source": [
    "## Evaluation using Confusion Matrix and Accuracy"
   ]
  },
  {
   "cell_type": "code",
   "execution_count": null,
   "id": "3aeb97da",
   "metadata": {},
   "outputs": [],
   "source": [
    "yhat=model.predict(X_test)"
   ]
  },
  {
   "cell_type": "code",
   "execution_count": null,
   "id": "5ed743ec",
   "metadata": {},
   "outputs": [],
   "source": [
    "ytrue=np.argmax(y_test,axis=1).tolist()\n",
    "yhat=np.argmax(yhat,axis=1).tolist()"
   ]
  },
  {
   "cell_type": "code",
   "execution_count": null,
   "id": "9046eece",
   "metadata": {},
   "outputs": [],
   "source": [
    "multilabel_confusion_matrix(ytrue,yhat)"
   ]
  },
  {
   "cell_type": "code",
   "execution_count": null,
   "id": "813ace87",
   "metadata": {},
   "outputs": [],
   "source": [
    "accuracy_score(ytrue,yhat)"
   ]
  },
  {
   "cell_type": "markdown",
   "id": "eb585fe6",
   "metadata": {},
   "source": [
    " ## Test in Real time"
   ]
  },
  {
   "cell_type": "code",
   "execution_count": null,
   "id": "311cc689",
   "metadata": {},
   "outputs": [],
   "source": [
    "model.load_weights('actionv2.h5')"
   ]
  },
  {
   "cell_type": "code",
   "execution_count": null,
   "id": "da598e3e",
   "metadata": {},
   "outputs": [],
   "source": [
    "sequence=[]\n",
    "sentence=[]\n",
    "predictions=[]\n",
    "threshold=0.7\n",
    "\n",
    "cap=cv2.VideoCapture(0)\n",
    " \n",
    "with mp_holistic.Holistic(min_detection_confidence=0.5,min_tracking_confidence=0.5) as holistic:\n",
    "    while cap.isOpened():\n",
    "        ret,frame=cap.read()\n",
    "        image,results=mediapipe_detection(frame,holistic)\n",
    "        #print(results)\n",
    "        draw_styled_landmarks(image,results)\n",
    "        \n",
    "        keypoints=extract_keypoints(results)\n",
    "        sequence.append(keypoints)\n",
    "        sequence=sequence[-30:]\n",
    "        \n",
    "        if len(sequence)==30:\n",
    "            res=model.predict(np.expand_dims(sequence,axis=0))[0]\n",
    "            print(actions[np.argmax(res)])\n",
    "            predictions.append(np.argmax(res))\n",
    "\n",
    "            if np.unique(predictions[-10:])[0]==np.argmax(res):\n",
    "                if res[np.argmax(res)]>threshold:\n",
    "                    if len(sentence)>0:\n",
    "                        if actions[np.argmax(res)]!=sentence[-1]:\n",
    "                            sentence.append(actions[np.argmax(res)])\n",
    "                    else: \n",
    "                        sentence.append(actions[np.argmax(res)])\n",
    "\n",
    "            if len(sentence)>5:\n",
    "                sentence=sentence[-5:]\n",
    "        \n",
    "        cv2.rectangle(image,(0,0),(640,40),(245,117,16),-1)\n",
    "        cv2.putText(image,' '.join(sentence),(100,30),cv2.FONT_HERSHEY_SIMPLEX,1,(255,255,255),2,cv2.LINE_AA)\n",
    "        cv2.namedWindow(\"OpenCV Feed\", cv2.WINDOW_NORMAL)\n",
    "        cv2.resizeWindow(\"OpenCV Feed\", 1000, 800)\n",
    "        cv2.imshow('OpenCV Feed',image)\n",
    "        if cv2.waitKey(10) & 0xff==ord('q'):\n",
    "            break\n",
    "    cap.release()\n",
    "    cv2.destroyAllWindows()"
   ]
  },
  {
   "cell_type": "code",
   "execution_count": null,
   "id": "d33914bc",
   "metadata": {},
   "outputs": [],
   "source": [
    "cap.release()\n",
    "cv2.destroyAllWindows()"
   ]
  }
 ],
 "metadata": {
  "kernelspec": {
   "display_name": "Python 3 (ipykernel)",
   "language": "python",
   "name": "python3"
  },
  "language_info": {
   "codemirror_mode": {
    "name": "ipython",
    "version": 3
   },
   "file_extension": ".py",
   "mimetype": "text/x-python",
   "name": "python",
   "nbconvert_exporter": "python",
   "pygments_lexer": "ipython3",
   "version": "3.11.5"
  }
 },
 "nbformat": 4,
 "nbformat_minor": 5
}
